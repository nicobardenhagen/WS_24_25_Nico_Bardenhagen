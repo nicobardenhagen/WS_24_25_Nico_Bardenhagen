{
  "metadata": {
    "kernelspec": {
      "name": "python",
      "display_name": "Python (Pyodide)",
      "language": "python"
    },
    "language_info": {
      "codemirror_mode": {
        "name": "python",
        "version": 3
      },
      "file_extension": ".py",
      "mimetype": "text/x-python",
      "name": "python",
      "nbconvert_exporter": "python",
      "pygments_lexer": "ipython3",
      "version": "3.8"
    }
  },
  "nbformat_minor": 4,
  "nbformat": 4,
  "cells": [
    {
      "cell_type": "code",
      "source": "def find_even_index(arr):\n    for i in range(len(arr)):\n        left = sum(arr[:i])\n        right = sum(arr[i+1:])\n        if left == right:\n            return i\n    return -1\n\nprint(find_even_index([1,2,3,4,3,2,1]))\nprint(find_even_index([1,100,50,-51,1,1]))\nprint(find_even_index([1,2,3,4,5,6]))\nprint(find_even_index([20,10,30,10,10,15,35]))\nprint(find_even_index([20,10,-80,10,10,15,35]))\nprint(find_even_index([10,-80,10,10,15,35,20]))\nprint(find_even_index(range(1,100)))\nprint(find_even_index([-1,-2,-3,-4,-3,-2,-1]))\nprint(find_even_index(range(-100,-1)))\nprint(find_even_index([0,0,0,0,0]))",
      "metadata": {
        "trusted": true
      },
      "outputs": [],
      "execution_count": null
    }
  ]
}