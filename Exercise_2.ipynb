{
  "metadata": {
    "kernelspec": {
      "name": "python",
      "display_name": "Python (Pyodide)",
      "language": "python"
    },
    "language_info": {
      "codemirror_mode": {
        "name": "python",
        "version": 3
      },
      "file_extension": ".py",
      "mimetype": "text/x-python",
      "name": "python",
      "nbconvert_exporter": "python",
      "pygments_lexer": "ipython3",
      "version": "3.8"
    }
  },
  "nbformat_minor": 4,
  "nbformat": 4,
  "cells": [
    {
      "cell_type": "code",
      "source": "def maskify(your_str):\n    if your_str == \"\":\n        pass\n    if len(your_str) <= 4:\n        return your_str\n    else:\n        return \"#\" * (len(your_str) - 4) + your_str[-4:]\n\nprint(maskify(\"4556364607935616\"))\nprint(maskify(     \"64607935616\"))\nprint(maskify(               \"1\"))\nprint(maskify(                \"\"))",
      "metadata": {
        "trusted": true
      },
      "outputs": [],
      "execution_count": null
    }
  ]
}