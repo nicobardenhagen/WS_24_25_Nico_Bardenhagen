{
  "metadata": {
    "kernelspec": {
      "name": "python",
      "display_name": "Python (Pyodide)",
      "language": "python"
    },
    "language_info": {
      "codemirror_mode": {
        "name": "python",
        "version": 3
      },
      "file_extension": ".py",
      "mimetype": "text/x-python",
      "name": "python",
      "nbconvert_exporter": "python",
      "pygments_lexer": "ipython3",
      "version": "3.8"
    }
  },
  "nbformat_minor": 4,
  "nbformat": 4,
  "cells": [
    {
      "cell_type": "code",
      "source": "def basic_op(operator, value1, value2):\n    if operator == '+':\n        return value1 + value2\n    elif operator == '-':\n        return value1 - value2\n    elif operator == '*':\n        return value1 * value2\n    elif operator == '/':\n        return value1 / value2\n\nprint(basic_op('+', 4, 7))\nprint(basic_op('-', 15, 18))\nprint(basic_op('*', 5, 5))\nprint(basic_op('/', 49, 7))",
      "metadata": {
        "trusted": true
      },
      "outputs": [],
      "execution_count": null
    }
  ]
}