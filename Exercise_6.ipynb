{
  "metadata": {
    "kernelspec": {
      "name": "python",
      "display_name": "Python (Pyodide)",
      "language": "python"
    },
    "language_info": {
      "codemirror_mode": {
        "name": "python",
        "version": 3
      },
      "file_extension": ".py",
      "mimetype": "text/x-python",
      "name": "python",
      "nbconvert_exporter": "python",
      "pygments_lexer": "ipython3",
      "version": "3.8"
    }
  },
  "nbformat_minor": 4,
  "nbformat": 4,
  "cells": [
    {
      "cell_type": "code",
      "source": "def numericals(your_str):\n    buchstabe = {}\n    result = \"\"\n    for char in your_str:\n        if char in buchstabe:\n            buchstabe[char] += 1\n        else:\n            buchstabe[char] = 1\n        result += str(buchstabe[char])\n    return result\n\nprint(numericals(\"Hello, World!\"))\nprint(numericals(\"Hello, World! It's me, JomoPipi!\"))\nprint(numericals(\"hello hello\"))\nprint(numericals(\"Hello\"))\nprint(numericals(\"aaaaaaaaaaaa\"))",
      "metadata": {
        "trusted": true
      },
      "outputs": [],
      "execution_count": null
    }
  ]
}