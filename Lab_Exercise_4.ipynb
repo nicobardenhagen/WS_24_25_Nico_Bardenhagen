{
  "metadata": {
    "kernelspec": {
      "name": "python",
      "display_name": "Python (Pyodide)",
      "language": "python"
    },
    "language_info": {
      "codemirror_mode": {
        "name": "python",
        "version": 3
      },
      "file_extension": ".py",
      "mimetype": "text/x-python",
      "name": "python",
      "nbconvert_exporter": "python",
      "pygments_lexer": "ipython3",
      "version": "3.8"
    }
  },
  "nbformat_minor": 4,
  "nbformat": 4,
  "cells": [
    {
      "cell_type": "code",
      "source": "def race(v1, v2, g):\n    if v1 >= v2:\n        return None\n    else:\n        zeit = g / (v2 - v1)\n        stunden = int(zeit)\n        minuten = int((zeit * 60) % 60)\n        sekunden = int((zeit * 3600) % 60)\n    return[stunden, minuten, sekunden]\n\nprint(race(720, 850, 70))\nprint(race(80, 91, 37))\nprint(race(80, 100, 40))",
      "metadata": {
        "trusted": true
      },
      "outputs": [],
      "execution_count": null
    }
  ]
}