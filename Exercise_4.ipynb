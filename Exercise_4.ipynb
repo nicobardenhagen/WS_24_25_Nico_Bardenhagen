{
  "metadata": {
    "kernelspec": {
      "name": "python",
      "display_name": "Python (Pyodide)",
      "language": "python"
    },
    "language_info": {
      "codemirror_mode": {
        "name": "python",
        "version": 3
      },
      "file_extension": ".py",
      "mimetype": "text/x-python",
      "name": "python",
      "nbconvert_exporter": "python",
      "pygments_lexer": "ipython3",
      "version": "3.8"
    }
  },
  "nbformat_minor": 4,
  "nbformat": 4,
  "cells": [
    {
      "cell_type": "code",
      "source": "def how_much_i_like_you(nb_petals):\n    phrases = [\n        \"I like you\",\n        \"a little\",\n        \"a lot\",\n        \"passionately\",\n        \"madly\",\n        \"not at all\"\n    ]\n    return phrases [(nb_petals - 1) % len(phrases)]\n\n#das % stellt sicher, dass wir uns innerhalb der Liste bewegen selbst wenn diese zu Ende ist\n#war nicht Inhalt der Vorlesung (im Selbststudium darauf gestoßen, da sich meine Funktion immer bei nb = 9 aufgehängt hat)\n\nprint(how_much_i_like_you(7))\nprint(how_much_i_like_you(2))\nprint(how_much_i_like_you(5))\nprint(how_much_i_like_you(9))",
      "metadata": {
        "trusted": true
      },
      "outputs": [],
      "execution_count": null
    }
  ]
}