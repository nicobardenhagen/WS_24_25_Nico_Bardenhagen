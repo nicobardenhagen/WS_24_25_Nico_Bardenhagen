{
  "metadata": {
    "kernelspec": {
      "name": "python",
      "display_name": "Python (Pyodide)",
      "language": "python"
    },
    "language_info": {
      "codemirror_mode": {
        "name": "python",
        "version": 3
      },
      "file_extension": ".py",
      "mimetype": "text/x-python",
      "name": "python",
      "nbconvert_exporter": "python",
      "pygments_lexer": "ipython3",
      "version": "3.8"
    }
  },
  "nbformat_minor": 4,
  "nbformat": 4,
  "cells": [
    {
      "cell_type": "code",
      "source": "def solve(a,b):\n    result = []\n    for wörter in array2:\n        result.append(array1.count(wörter))\n    return result\n\narray1 = ['abc', 'abc','xyz','abcd','cde']\narray2 = ['abc', 'cde', 'uap']\nprint(solve(array1, array2))\narray1 = ['abc', 'xyz','abc', 'xyz','cde']\narray2 = ['abc', 'cde', 'xyz']\nprint(solve(array1, array2))\narray1 = ['quick', 'brown', 'fox', 'is', 'quick']\narray2 = ['quick', 'abc', 'fox']\nprint(solve(array1, array2))",
      "metadata": {
        "trusted": true
      },
      "outputs": [],
      "execution_count": null
    }
  ]
}