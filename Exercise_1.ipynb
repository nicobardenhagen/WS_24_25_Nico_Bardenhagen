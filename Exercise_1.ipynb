{
  "metadata": {
    "kernelspec": {
      "name": "python",
      "display_name": "Python (Pyodide)",
      "language": "python"
    },
    "language_info": {
      "codemirror_mode": {
        "name": "python",
        "version": 3
      },
      "file_extension": ".py",
      "mimetype": "text/x-python",
      "name": "python",
      "nbconvert_exporter": "python",
      "pygments_lexer": "ipython3",
      "version": "3.8"
    }
  },
  "nbformat_minor": 4,
  "nbformat": 4,
  "cells": [
    {
      "cell_type": "code",
      "source": "# NOTE! \"pass\" is a keyword for an empty function. It tells the compiler that it is not an error if a function is empty\n# https://docs.python.org/3/library/stdtypes.html#str.split\ndef string_to_array(your_string):\n    if your_string == \"\":\n        pass\n    else:\n        print(your_string.split())\n\nstring_to_array(\"Robin Singh\")\nstring_to_array(\"CodeWars\")\nstring_to_array(\"I love arrays they are my favorite\")\nstring_to_array(\"1 2 3\")\nstring_to_array(\"\")",
      "metadata": {
        "trusted": true
      },
      "outputs": [],
      "execution_count": null
    }
  ]
}